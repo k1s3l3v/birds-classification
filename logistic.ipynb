{
 "cells": [
  {
   "cell_type": "code",
   "execution_count": 4,
   "metadata": {},
   "outputs": [],
   "source": [
    "import pandas as pd\n",
    "import numpy as np\n",
    "import os\n",
    "from matplotlib import pyplot as plt"
   ]
  },
  {
   "cell_type": "markdown",
   "metadata": {},
   "source": [
    "## Getting dataframe with features"
   ]
  },
  {
   "cell_type": "code",
   "execution_count": 2,
   "metadata": {},
   "outputs": [],
   "source": [
    "def get_birds_enum(numQ: bool = True):\n",
    "    birds = [dirs for _, dirs, _ in os.walk('data')][0]\n",
    "    return {i: birds[i] for i in range(len(birds))} if numQ else {birds[i]: i for i in range(len(birds))}\n",
    "\n",
    "def get_all_df() -> pd.DataFrame:\n",
    "    csv_files = [dirname + '/' + file for dirname, _, files in os.walk('data') for file in files if 'wav.csv' in file]\n",
    "    df = pd.read_csv('/Users/juggjup/PycharmProjects/sync-files/mad_nbs/birds/data/Dendrocopos/103937.wav.csv', index_col=0)\n",
    "    columns = ['index'] + list(df.columns)\n",
    "    df_all = pd.DataFrame(columns=columns)\n",
    "    birds_enum = get_birds_enum(False)\n",
    "    for i, file in enumerate(csv_files):\n",
    "        df = pd.read_csv(file, index_col=0)\n",
    "        id = file.split('/')[-1].split('.')[0]\n",
    "        bird = file.split('/')[1]\n",
    "        df_all.at[i, 'index'] = id\n",
    "        for column in columns[1:]:\n",
    "            df_all.at[i, column] = df[column].dropna().to_numpy()\n",
    "        df_all.at[i, 'target'] = birds_enum[bird]\n",
    "        print(f'File {i} {file} ready', end='\\r')\n",
    "    return df_all\n",
    "\n",
    "def export_all_df() -> None:\n",
    "    df = get_all_df()\n",
    "    df.to_csv('data/features.csv')"
   ]
  },
  {
   "cell_type": "code",
   "execution_count": 125,
   "metadata": {},
   "outputs": [
    {
     "name": "stdout",
     "output_type": "stream",
     "text": [
      "File 2514 data/Troglodytes/148474.wav.csv readyy\r"
     ]
    }
   ],
   "source": [
    "df_all = get_all_df()"
   ]
  },
  {
   "cell_type": "code",
   "execution_count": 126,
   "metadata": {},
   "outputs": [
    {
     "name": "stdout",
     "output_type": "stream",
     "text": [
      "s0\n",
      "s1\n",
      "s2\n",
      "s3\n",
      "s4\n",
      "s5\n",
      "s6\n",
      "s7\n",
      "s8\n",
      "s9\n",
      "s10\n",
      "s11\n",
      "s12\n",
      "s13\n",
      "s14\n",
      "s15\n",
      "s16\n",
      "s17\n",
      "s18\n",
      "s19\n",
      "s20\n",
      "s21\n",
      "s22\n",
      "s23\n",
      "s24\n",
      "s25\n",
      "s26\n",
      "s27\n",
      "s28\n",
      "s29\n",
      "s30\n",
      "s31\n",
      "s32\n",
      "s33\n",
      "s34\n",
      "s35\n",
      "s36\n",
      "s37\n",
      "s38\n",
      "s39\n",
      "s40\n",
      "s41\n",
      "s42\n",
      "s43\n",
      "s44\n",
      "s45\n",
      "s46\n",
      "s47\n",
      "s48\n",
      "s49\n",
      "s50\n",
      "s51\n",
      "s52\n",
      "s53\n",
      "s54\n",
      "s55\n",
      "s56\n",
      "s57\n",
      "s58\n",
      "s59\n",
      "s60\n",
      "s61\n",
      "s62\n",
      "s63\n",
      "s64\n",
      "s65\n",
      "s66\n",
      "s67\n",
      "m0\n",
      "m1\n",
      "m2\n",
      "m3\n",
      "m4\n",
      "m5\n",
      "m6\n",
      "m7\n",
      "m8\n",
      "m9\n",
      "m10\n",
      "m11\n",
      "m12\n",
      "m13\n",
      "m14\n",
      "m15\n",
      "m16\n",
      "m17\n",
      "m18\n",
      "m19\n",
      "m20\n",
      "m21\n",
      "m22\n",
      "m23\n",
      "m24\n",
      "m25\n",
      "m26\n",
      "m27\n",
      "m28\n",
      "m29\n",
      "m30\n",
      "m31\n",
      "m32\n",
      "m33\n",
      "m34\n",
      "m35\n",
      "m36\n",
      "m37\n",
      "m38\n",
      "m39\n",
      "m40\n",
      "m41\n",
      "m42\n",
      "m43\n",
      "m44\n",
      "m45\n",
      "m46\n",
      "m47\n",
      "m48\n",
      "m49\n",
      "m50\n",
      "m51\n",
      "m52\n",
      "m53\n",
      "m54\n",
      "m55\n",
      "m56\n",
      "m57\n",
      "m58\n",
      "m59\n",
      "m60\n",
      "m61\n",
      "m62\n",
      "m63\n",
      "m64\n",
      "m65\n",
      "m66\n",
      "m67\n",
      "m68\n",
      "m69\n",
      "m70\n",
      "m71\n",
      "m72\n",
      "m73\n",
      "m74\n",
      "m75\n",
      "m76\n",
      "m77\n",
      "m78\n",
      "m79\n",
      "m80\n",
      "m81\n",
      "m82\n",
      "m83\n",
      "m84\n",
      "m85\n",
      "m86\n",
      "m87\n",
      "m88\n",
      "m89\n",
      "m90\n",
      "m91\n",
      "m92\n",
      "m93\n",
      "m94\n",
      "m95\n",
      "m96\n",
      "m97\n",
      "m98\n",
      "m99\n",
      "m100\n",
      "m101\n",
      "m102\n",
      "m103\n",
      "m104\n",
      "m105\n",
      "m106\n",
      "m107\n",
      "m108\n",
      "m109\n",
      "m110\n",
      "m111\n",
      "m112\n",
      "m113\n",
      "m114\n",
      "m115\n",
      "m116\n",
      "m117\n",
      "m118\n",
      "m119\n",
      "m120\n",
      "m121\n",
      "m122\n",
      "m123\n",
      "m124\n",
      "m125\n",
      "m126\n",
      "m127\n",
      "m128\n",
      "m129\n",
      "m130\n",
      "m131\n",
      "m132\n",
      "m133\n",
      "m134\n",
      "m135\n"
     ]
    }
   ],
   "source": [
    "feature_columns = df_all.columns[1:-1]\n",
    "\n",
    "def stat(x):\n",
    "    try:\n",
    "        return np.array([x.min(), x.mean(), x.max()])\n",
    "    except:\n",
    "        return [0, 0, 0]\n",
    "    \n",
    "for column in feature_columns:\n",
    "    print(column)\n",
    "    df_all[column] = df_all[column].apply(stat)"
   ]
  },
  {
   "cell_type": "markdown",
   "metadata": {},
   "source": [
    "## Logistic regression"
   ]
  },
  {
   "cell_type": "code",
   "execution_count": 127,
   "metadata": {},
   "outputs": [
    {
     "data": {
      "text/plain": [
       "[<matplotlib.lines.Line2D at 0x377a4fe50>]"
      ]
     },
     "execution_count": 127,
     "metadata": {},
     "output_type": "execute_result"
    },
    {
     "data": {
      "image/png": "[encoded data removed]",
      "text/plain": [
       "<Figure size 640x480 with 1 Axes>"
      ]
     },
     "metadata": {},
     "output_type": "display_data"
    }
   ],
   "source": [
    "x = df_all['target'].value_counts().sort_values(ignore_index=1)\n",
    "x = x / x.sum()\n",
    "plt.plot(x)"
   ]
  },
  {
   "cell_type": "code",
   "execution_count": 157,
   "metadata": {},
   "outputs": [],
   "source": [
    "from sklearn.linear_model import LogisticRegression\n",
    "from sklearn.model_selection import train_test_split as tts"
   ]
  },
  {
   "cell_type": "code",
   "execution_count": 158,
   "metadata": {},
   "outputs": [],
   "source": [
    "X = list(map(np.concatenate, df_all.iloc[:, 1:-1].values))\n",
    "y = df_all['target']\n",
    "X_train, X_test, y_train, y_test = tts(X, y, test_size=0.33)"
   ]
  },
  {
   "cell_type": "code",
   "execution_count": 199,
   "metadata": {},
   "outputs": [],
   "source": [
    "LR = LogisticRegression(solver='newton-cg', class_weight='balanced', random_state=42, max_iter=1000, multi_class='multinomial')"
   ]
  },
  {
   "cell_type": "code",
   "execution_count": 200,
   "metadata": {},
   "outputs": [
    {
     "data": {
      "text/html": [
       "<style>#sk-container-id-10 {color: black;}#sk-container-id-10 pre{padding: 0;}#sk-container-id-10 div.sk-toggleable {background-color: white;}#sk-container-id-10 label.sk-toggleable__label {cursor: pointer;display: block;width: 100%;margin-bottom: 0;padding: 0.3em;box-sizing: border-box;text-align: center;}#sk-container-id-10 label.sk-toggleable__label-arrow:before {content: \"▸\";float: left;margin-right: 0.25em;color: #696969;}#sk-container-id-10 label.sk-toggleable__label-arrow:hover:before {color: black;}#sk-container-id-10 div.sk-estimator:hover label.sk-toggleable__label-arrow:before {color: black;}#sk-container-id-10 div.sk-toggleable__content {max-height: 0;max-width: 0;overflow: hidden;text-align: left;background-color: #f0f8ff;}#sk-container-id-10 div.sk-toggleable__content pre {margin: 0.2em;color: black;border-radius: 0.25em;background-color: #f0f8ff;}#sk-container-id-10 input.sk-toggleable__control:checked~div.sk-toggleable__content {max-height: 200px;max-width: 100%;overflow: auto;}#sk-container-id-10 input.sk-toggleable__control:checked~label.sk-toggleable__label-arrow:before {content: \"▾\";}#sk-container-id-10 div.sk-estimator input.sk-toggleable__control:checked~label.sk-toggleable__label {background-color: #d4ebff;}#sk-container-id-10 div.sk-label input.sk-toggleable__control:checked~label.sk-toggleable__label {background-color: #d4ebff;}#sk-container-id-10 input.sk-hidden--visually {border: 0;clip: rect(1px 1px 1px 1px);clip: rect(1px, 1px, 1px, 1px);height: 1px;margin: -1px;overflow: hidden;padding: 0;position: absolute;width: 1px;}#sk-container-id-10 div.sk-estimator {font-family: monospace;background-color: #f0f8ff;border: 1px dotted black;border-radius: 0.25em;box-sizing: border-box;margin-bottom: 0.5em;}#sk-container-id-10 div.sk-estimator:hover {background-color: #d4ebff;}#sk-container-id-10 div.sk-parallel-item::after {content: \"\";width: 100%;border-bottom: 1px solid gray;flex-grow: 1;}#sk-container-id-10 div.sk-label:hover label.sk-toggleable__label {background-color: #d4ebff;}#sk-container-id-10 div.sk-serial::before {content: \"\";position: absolute;border-left: 1px solid gray;box-sizing: border-box;top: 0;bottom: 0;left: 50%;z-index: 0;}#sk-container-id-10 div.sk-serial {display: flex;flex-direction: column;align-items: center;background-color: white;padding-right: 0.2em;padding-left: 0.2em;position: relative;}#sk-container-id-10 div.sk-item {position: relative;z-index: 1;}#sk-container-id-10 div.sk-parallel {display: flex;align-items: stretch;justify-content: center;background-color: white;position: relative;}#sk-container-id-10 div.sk-item::before, #sk-container-id-10 div.sk-parallel-item::before {content: \"\";position: absolute;border-left: 1px solid gray;box-sizing: border-box;top: 0;bottom: 0;left: 50%;z-index: -1;}#sk-container-id-10 div.sk-parallel-item {display: flex;flex-direction: column;z-index: 1;position: relative;background-color: white;}#sk-container-id-10 div.sk-parallel-item:first-child::after {align-self: flex-end;width: 50%;}#sk-container-id-10 div.sk-parallel-item:last-child::after {align-self: flex-start;width: 50%;}#sk-container-id-10 div.sk-parallel-item:only-child::after {width: 0;}#sk-container-id-10 div.sk-dashed-wrapped {border: 1px dashed gray;margin: 0 0.4em 0.5em 0.4em;box-sizing: border-box;padding-bottom: 0.4em;background-color: white;}#sk-container-id-10 div.sk-label label {font-family: monospace;font-weight: bold;display: inline-block;line-height: 1.2em;}#sk-container-id-10 div.sk-label-container {text-align: center;}#sk-container-id-10 div.sk-container {/* jupyter's `normalize.less` sets `[hidden] { display: none; }` but bootstrap.min.css set `[hidden] { display: none !important; }` so we also need the `!important` here to be able to override the default hidden behavior on the sphinx rendered scikit-learn.org. See: https://github.com/scikit-learn/scikit-learn/issues/21755 */display: inline-block !important;position: relative;}#sk-container-id-10 div.sk-text-repr-fallback {display: none;}</style><div id=\"sk-container-id-10\" class=\"sk-top-container\"><div class=\"sk-text-repr-fallback\"><pre>LogisticRegression(class_weight=&#x27;balanced&#x27;, max_iter=1000,\n",
       "                   multi_class=&#x27;multinomial&#x27;, random_state=42,\n",
       "                   solver=&#x27;newton-cg&#x27;)</pre><b>In a Jupyter environment, please rerun this cell to show the HTML representation or trust the notebook. <br />On GitHub, the HTML representation is unable to render, please try loading this page with nbviewer.org.</b></div><div class=\"sk-container\" hidden><div class=\"sk-item\"><div class=\"sk-estimator sk-toggleable\"><input class=\"sk-toggleable__control sk-hidden--visually\" id=\"sk-estimator-id-10\" type=\"checkbox\" checked><label for=\"sk-estimator-id-10\" class=\"sk-toggleable__label sk-toggleable__label-arrow\">LogisticRegression</label><div class=\"sk-toggleable__content\"><pre>LogisticRegression(class_weight=&#x27;balanced&#x27;, max_iter=1000,\n",
       "                   multi_class=&#x27;multinomial&#x27;, random_state=42,\n",
       "                   solver=&#x27;newton-cg&#x27;)</pre></div></div></div></div></div>"
      ],
      "text/plain": [
       "LogisticRegression(class_weight='balanced', max_iter=1000,\n",
       "                   multi_class='multinomial', random_state=42,\n",
       "                   solver='newton-cg')"
      ]
     },
     "execution_count": 200,
     "metadata": {},
     "output_type": "execute_result"
    }
   ],
   "source": [
    "LR.fit(X_train, y_train)"
   ]
  },
  {
   "cell_type": "code",
   "execution_count": 207,
   "metadata": {},
   "outputs": [],
   "source": [
    "y_pred = LR.predict_proba(X_test)"
   ]
  },
  {
   "cell_type": "code",
   "execution_count": 208,
   "metadata": {},
   "outputs": [],
   "source": [
    "from sklearn.metrics import mean_absolute_error as mae, f1_score, roc_auc_score"
   ]
  },
  {
   "cell_type": "code",
   "execution_count": 209,
   "metadata": {},
   "outputs": [
    {
     "data": {
      "text/plain": [
       "2132    11.0\n",
       "580      2.0\n",
       "2491    13.0\n",
       "835      3.0\n",
       "1050     7.0\n",
       "        ... \n",
       "778      3.0\n",
       "959      6.0\n",
       "2493    13.0\n",
       "1968    11.0\n",
       "1020     6.0\n",
       "Name: target, Length: 830, dtype: float64"
      ]
     },
     "execution_count": 209,
     "metadata": {},
     "output_type": "execute_result"
    }
   ],
   "source": [
    "y_test"
   ]
  },
  {
   "cell_type": "code",
   "execution_count": 210,
   "metadata": {},
   "outputs": [
    {
     "data": {
      "text/plain": [
       "array([[5.32877527e-02, 5.99199972e-02, 9.91821656e-02, ...,\n",
       "        2.48219233e-02, 6.56711469e-02, 8.80212557e-05],\n",
       "       [2.30283253e-01, 1.41055248e-02, 3.41825342e-02, ...,\n",
       "        8.82125974e-02, 6.30141232e-02, 4.42212048e-05],\n",
       "       [1.29967925e-03, 4.68742203e-04, 1.43430149e-01, ...,\n",
       "        8.86062976e-02, 6.96597283e-02, 4.63580374e-03],\n",
       "       ...,\n",
       "       [4.04449892e-02, 6.95051791e-04, 9.84374785e-03, ...,\n",
       "        1.20019986e-01, 1.44823537e-02, 2.75563875e-02],\n",
       "       [3.50021143e-02, 2.11008377e-03, 8.57635788e-03, ...,\n",
       "        7.68458116e-01, 2.76638560e-04, 1.81699572e-03],\n",
       "       [2.48558296e-01, 2.31746680e-02, 2.45927186e-03, ...,\n",
       "        9.91020283e-02, 1.42929731e-03, 6.44722112e-03]])"
      ]
     },
     "execution_count": 210,
     "metadata": {},
     "output_type": "execute_result"
    }
   ],
   "source": [
    "y_pred"
   ]
  },
  {
   "cell_type": "code",
   "execution_count": 211,
   "metadata": {},
   "outputs": [
    {
     "data": {
      "text/plain": [
       "0.8144446049990623"
      ]
     },
     "execution_count": 211,
     "metadata": {},
     "output_type": "execute_result"
    }
   ],
   "source": [
    "roc_auc_score(y_test.values, y_pred, multi_class='ovr')"
   ]
  },
  {
   "cell_type": "code",
   "execution_count": 212,
   "metadata": {},
   "outputs": [
    {
     "data": {
      "text/plain": [
       "0.44120880825883263"
      ]
     },
     "execution_count": 212,
     "metadata": {},
     "output_type": "execute_result"
    }
   ],
   "source": [
    "f1_score(y_test, LR.predict(X_test), average='weighted')"
   ]
  },
  {
   "cell_type": "code",
   "execution_count": null,
   "metadata": {},
   "outputs": [],
   "source": []
  }
 ],
 "metadata": {
  "kernelspec": {
   "display_name": "venv",
   "language": "python",
   "name": "python3"
  },
  "language_info": {
   "codemirror_mode": {
    "name": "ipython",
    "version": 3
   },
   "file_extension": ".py",
   "mimetype": "text/x-python",
   "name": "python",
   "nbconvert_exporter": "python",
   "pygments_lexer": "ipython3",
   "version": "3.10.13"
  }
 },
 "nbformat": 4,
 "nbformat_minor": 2
}
